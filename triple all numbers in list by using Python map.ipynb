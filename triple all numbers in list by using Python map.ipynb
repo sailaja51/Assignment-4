{
 "cells": [
  {
   "cell_type": "markdown",
   "id": "78ab699f",
   "metadata": {},
   "source": [
    "# Write the Pyhton program to triple all numbers of a given list of integers. Use Python map.\n",
    "sample list:[1,2,3,4,5,6,7]\n",
    "\n",
    "Triple of list numbers:[3,6,9,12,15,18,21]"
   ]
  },
  {
   "cell_type": "code",
   "execution_count": 1,
   "id": "64f862c2",
   "metadata": {},
   "outputs": [],
   "source": [
    "def triple(num):\n",
    "    return num*3"
   ]
  },
  {
   "cell_type": "code",
   "execution_count": 2,
   "id": "a8a5cdd2",
   "metadata": {},
   "outputs": [],
   "source": [
    "sample_list = [1,2,3,4,5,6,7]"
   ]
  },
  {
   "cell_type": "code",
   "execution_count": 3,
   "id": "f27725fe",
   "metadata": {},
   "outputs": [],
   "source": [
    "val = list(map(triple,sample_list))"
   ]
  },
  {
   "cell_type": "code",
   "execution_count": 4,
   "id": "913b8927",
   "metadata": {},
   "outputs": [
    {
     "name": "stdout",
     "output_type": "stream",
     "text": [
      "[3, 6, 9, 12, 15, 18, 21]\n"
     ]
    }
   ],
   "source": [
    "print(val)"
   ]
  },
  {
   "cell_type": "code",
   "execution_count": null,
   "id": "cbb65247",
   "metadata": {},
   "outputs": [],
   "source": []
  }
 ],
 "metadata": {
  "kernelspec": {
   "display_name": "Python 3 (ipykernel)",
   "language": "python",
   "name": "python3"
  },
  "language_info": {
   "codemirror_mode": {
    "name": "ipython",
    "version": 3
   },
   "file_extension": ".py",
   "mimetype": "text/x-python",
   "name": "python",
   "nbconvert_exporter": "python",
   "pygments_lexer": "ipython3",
   "version": "3.9.5"
  }
 },
 "nbformat": 4,
 "nbformat_minor": 5
}
