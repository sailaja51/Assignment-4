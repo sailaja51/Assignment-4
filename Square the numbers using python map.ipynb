{
 "cells": [
  {
   "cell_type": "markdown",
   "id": "eb1bd7d8",
   "metadata": {},
   "source": [
    "# Write a Python to square the elements of a list using map() function\n",
    "\n",
    "Sample List:[4,5,2,9]\n",
    "\n",
    "Square the elements of the list:[16,25,4,81]"
   ]
  },
  {
   "cell_type": "code",
   "execution_count": 2,
   "id": "1543098c",
   "metadata": {},
   "outputs": [],
   "source": [
    "def square(num):\n",
    "    return num**2"
   ]
  },
  {
   "cell_type": "code",
   "execution_count": 3,
   "id": "2e0a64fd",
   "metadata": {},
   "outputs": [],
   "source": [
    "sample_list = [4,5,2,9]"
   ]
  },
  {
   "cell_type": "code",
   "execution_count": 4,
   "id": "cbe8e5e2",
   "metadata": {},
   "outputs": [],
   "source": [
    "val = list(map(square,sample_list))"
   ]
  },
  {
   "cell_type": "code",
   "execution_count": 5,
   "id": "c4f22be1",
   "metadata": {},
   "outputs": [
    {
     "name": "stdout",
     "output_type": "stream",
     "text": [
      "[16, 25, 4, 81]\n"
     ]
    }
   ],
   "source": [
    "print(val)"
   ]
  },
  {
   "cell_type": "code",
   "execution_count": null,
   "id": "648d0da3",
   "metadata": {},
   "outputs": [],
   "source": []
  }
 ],
 "metadata": {
  "kernelspec": {
   "display_name": "Python 3 (ipykernel)",
   "language": "python",
   "name": "python3"
  },
  "language_info": {
   "codemirror_mode": {
    "name": "ipython",
    "version": 3
   },
   "file_extension": ".py",
   "mimetype": "text/x-python",
   "name": "python",
   "nbconvert_exporter": "python",
   "pygments_lexer": "ipython3",
   "version": "3.9.5"
  }
 },
 "nbformat": 4,
 "nbformat_minor": 5
}
